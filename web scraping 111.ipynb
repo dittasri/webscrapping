{
 "cells": [
  {
   "cell_type": "code",
   "execution_count": 2,
   "id": "50383feb",
   "metadata": {},
   "outputs": [
    {
     "name": "stdout",
     "output_type": "stream",
     "text": [
      "Requirement already satisfied: requests in c:\\users\\sri bhavya\\anaconda3\\lib\\site-packages (2.28.1)\n",
      "Requirement already satisfied: charset-normalizer<3,>=2 in c:\\users\\sri bhavya\\anaconda3\\lib\\site-packages (from requests) (2.0.4)\n",
      "Requirement already satisfied: urllib3<1.27,>=1.21.1 in c:\\users\\sri bhavya\\anaconda3\\lib\\site-packages (from requests) (1.26.14)\n",
      "Requirement already satisfied: idna<4,>=2.5 in c:\\users\\sri bhavya\\anaconda3\\lib\\site-packages (from requests) (3.4)\n",
      "Requirement already satisfied: certifi>=2017.4.17 in c:\\users\\sri bhavya\\anaconda3\\lib\\site-packages (from requests) (2022.12.7)\n"
     ]
    }
   ],
   "source": [
    "!pip install requests\n"
   ]
  },
  {
   "cell_type": "code",
   "execution_count": null,
   "id": "c7227b86",
   "metadata": {},
   "outputs": [],
   "source": [
    "import requests\n",
    "from bs4 import BeautifulSoup\n",
    "\n",
    "def scrape_adidas_data(url):\n",
    "    # Send a GET request to the URL\n",
    "    response = requests.get(url)\n",
    "    \n",
    "    # Check if the request was successful\n",
    "    if response.status_code == 200:\n",
    "        # Parse the HTML content using BeautifulSoup\n",
    "        soup = BeautifulSoup(response.content, 'html.parser')\n",
    "        \n",
    "        # Find the sections for men's, women's, and kids' wear\n",
    "        mens_section = soup.find('a', {'data-auto-id': 'men-category'})\n",
    "        womens_section = soup.find('a', {'data-auto-id': 'women-category'})\n",
    "        kids_section = soup.find('a', {'data-auto-id': 'kids-category'})\n",
    "\n",
    "        # Extract the URLs of each section\n",
    "        mens_url = mens_section['href'] if mens_section else None\n",
    "        womens_url = womens_section['href'] if womens_section else None\n",
    "        kids_url = kids_section['href'] if kids_section else None\n",
    "\n",
    "        return {\n",
    "            \"mens_url\": mens_url,\n",
    "            \"womens_url\": womens_url,\n",
    "            \"kids_url\": kids_url\n",
    "        }\n",
    "    else:\n",
    "        print(\"Failed to retrieve data. Status code:\", response.status_code)\n",
    "\n",
    "# URL of the Adidas India website\n",
    "url = \"https://www.adidas.co.in/\"\n",
    "\n",
    "# Scrape data from the website\n",
    "adidas_data = scrape_adidas_data(url)\n",
    "\n",
    "# Print the collected data\n",
    "print(\"Men's Wear URL:\", adidas_data[\"mens_url\"])\n",
    "print(\"Women's Wear URL:\", adidas_data[\"womens_url\"])\n",
    "print(\"Kids' Wear URL:\", adidas_data[\"kids_url\"])\n"
   ]
  }
 ],
 "metadata": {
  "kernelspec": {
   "display_name": "Python 3 (ipykernel)",
   "language": "python",
   "name": "python3"
  },
  "language_info": {
   "codemirror_mode": {
    "name": "ipython",
    "version": 3
   },
   "file_extension": ".py",
   "mimetype": "text/x-python",
   "name": "python",
   "nbconvert_exporter": "python",
   "pygments_lexer": "ipython3",
   "version": "3.10.9"
  }
 },
 "nbformat": 4,
 "nbformat_minor": 5
}
